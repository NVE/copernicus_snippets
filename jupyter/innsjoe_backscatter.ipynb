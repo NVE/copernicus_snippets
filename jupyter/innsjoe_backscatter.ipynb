{
 "cells": [
  {
   "cell_type": "markdown",
   "id": "27a1adb5",
   "metadata": {},
   "source": [
    "# Sentinel-1 backscatter i innsjø flater\n",
    "\n",
    "## Importer Python pakker"
   ]
  },
  {
   "cell_type": "code",
   "execution_count": 22,
   "id": "ea2629d8",
   "metadata": {},
   "outputs": [],
   "source": [
    "# Hvis pakkene ikke er installert fra før kan dette gjøres som følger\n",
    "# !python3 -m pip install pandas\n",
    "# !python3 -m pip install matplotlib\n",
    "# !python3 -m pip install seaborn\n",
    "# !python3 -m pip install actinia-python-client\n",
    "\n",
    "import getpass\n",
    "\n",
    "import pandas as pd\n",
    "import seaborn as sns\n",
    "import matplotlib.pyplot as plt\n",
    "\n",
    "from actinia import Actinia"
   ]
  },
  {
   "cell_type": "markdown",
   "id": "11a41f1c",
   "metadata": {},
   "source": [
    "## Koble til actinia og skaffe noe oversikt over data"
   ]
  },
  {
   "cell_type": "code",
   "execution_count": 2,
   "id": "8e959760",
   "metadata": {},
   "outputs": [
    {
     "name": "stdout",
     "output_type": "stream",
     "text": [
      "········\n",
      "········\n"
     ]
    }
   ],
   "source": [
    "# Initialize actinina\n",
    "\n",
    "USERNAME =  getpass.getpass()\n",
    "PASSWORD  = getpass.getpass()\n",
    "\n",
    "mapset_name = 'innsjoe_backscatter'\n",
    "\n",
    "# Antall parallele prosesser\n",
    "nprocs = 8\n",
    "\n",
    "actinia_nve = Actinia(\"http://l-fou01:8089\", \"v3\")\n",
    "actinia_nve.set_authentication(USERNAME, PASSWORD)\n"
   ]
  },
  {
   "cell_type": "code",
   "execution_count": 3,
   "id": "2a3faa89",
   "metadata": {},
   "outputs": [
    {
     "data": {
      "text/plain": [
       "{'ETRS_33N': <actinia.location.Location at 0x7ff0257f7b80>,\n",
       " 'nc_spm_08': <actinia.location.Location at 0x7ff0257f7bb0>,\n",
       " 'WGS84': <actinia.location.Location at 0x7ff0257f7130>,\n",
       " 'WGS84_33N': <actinia.location.Location at 0x7ff0257f7100>,\n",
       " 'WGS84_34N': <actinia.location.Location at 0x7ff0257f79a0>}"
      ]
     },
     "execution_count": 3,
     "metadata": {},
     "output_type": "execute_result"
    }
   ],
   "source": [
    "# Get projects (aka locations)\n",
    "actinia_nve.get_locations()"
   ]
  },
  {
   "cell_type": "code",
   "execution_count": 4,
   "id": "5270e6bf",
   "metadata": {},
   "outputs": [],
   "source": [
    "# Get mapsets (colections of map data)\n",
    "actinia_nve.locations['ETRS_33N'].get_mapsets()\n",
    "if not mapset_name in actinia_nve.locations['ETRS_33N'].mapsets:\n",
    "    actinia_nve.locations['ETRS_33N'].create_mapset(mapset_name)"
   ]
  },
  {
   "cell_type": "code",
   "execution_count": 5,
   "id": "75a8164a",
   "metadata": {},
   "outputs": [
    {
     "data": {
      "text/plain": [
       "{'DTM_10m': <actinia.raster.Raster at 0x7ff100185e80>,\n",
       " 'DTM_10m_Norge': <actinia.raster.Raster at 0x7ff1032446a0>,\n",
       " 'DTM_10m_Norge_Sverige': <actinia.raster.Raster at 0x7ff1032442e0>,\n",
       " 'DTM_10m_Sverige': <actinia.raster.Raster at 0x7ff0257f7220>,\n",
       " 'DTM_20m_Norge_Sverige': <actinia.raster.Raster at 0x7ff0257f7340>,\n",
       " 'DTM_20m_Norge_Sverige_ellipsoidal': <actinia.raster.Raster at 0x7ff0257f70a0>,\n",
       " 'DTM_250m': <actinia.raster.Raster at 0x7ff0257f75b0>,\n",
       " 'no_kv_HREF2018B_NN2000_EUREF89': <actinia.raster.Raster at 0x7ff0257f77f0>}"
      ]
     },
     "execution_count": 5,
     "metadata": {},
     "output_type": "execute_result"
    }
   ],
   "source": [
    "# Get a list of raster maps available in a mapset\n",
    "actinia_nve.locations['ETRS_33N'].mapsets['DTM'].get_raster_layers()"
   ]
  },
  {
   "cell_type": "markdown",
   "id": "2d790b44",
   "metadata": {},
   "source": [
    "## Sette opp prosesseringskjedene\n",
    "\n",
    "Nedenfor er det satt opp to prosess-jeder:\n",
    "\n",
    "1) Tilrettelegging av input data (her brelinjer og terrengmodel)\n",
    "2) Uttak av statistikk med funksjonen t.rast.stats (https://nve.github.io/actinia_modules_nve/t.rast.stats.html)\n",
    "\n",
    "Resultat av den endelige prosesskjeden er tekst (statistikk) og tilgjengeliggjøres som JSON data"
   ]
  },
  {
   "cell_type": "code",
   "execution_count": 6,
   "id": "a7785d45",
   "metadata": {},
   "outputs": [],
   "source": [
    "# Setup processing chain for a specific glacier (with breID)\n",
    "vatnlnr = 211  # Nedre Heimdalsvatnet\n",
    "pc_data_preparation = {\n",
    "    \"list\": [\n",
    "            {\n",
    "          \"id\": \"v_in_ogr_12345\",\n",
    "          \"module\": \"v.in.ogr\",\n",
    "          # Se: https://grass.osgeo.org/grass84/manuals/v.in.ogr.html\n",
    "          \"flags\": \"o\",\n",
    "          \"overwrite\": True,\n",
    "          \"inputs\": [\n",
    "              {\n",
    "                  \"param\": \"input\",\n",
    "                  \"value\": \"/hdata/fjernanalyse3/CopernicusUtviklingOgTest/vannflater.gpkg\"\n",
    "              },\n",
    "              {\n",
    "                  \"param\": \"where\",\n",
    "                  \"value\": f\"VATN_LNR = {vatnlnr}\"\n",
    "              }\n",
    "          ],\n",
    "          \"outputs\": [\n",
    "              {\n",
    "                  \"param\": \"output\",\n",
    "                  \"value\": f\"innsjoe_{vatnlnr}\"\n",
    "              }\n",
    "          ]\n",
    "        },\n",
    "        {\n",
    "          \"id\": \"g_region_12345\",\n",
    "          \"module\": \"g.region\",\n",
    "          # Se: https://grass.osgeo.org/grass84/manuals/g.region.html\n",
    "          \"flags\": \"g\",\n",
    "          \"inputs\": [\n",
    "              {\n",
    "                  \"param\": \"vector\",\n",
    "                  \"value\": f\"innsjoe_{vatnlnr}\"\n",
    "              },\n",
    "              {\n",
    "                  \"param\": \"align\",\n",
    "                  \"value\": \"DTM_20m_Norge_Sverige@DTM\"\n",
    "              }\n",
    "          ]\n",
    "        },\n",
    "        {\n",
    "          \"id\": \"v_to_rast_12345\",\n",
    "          \"module\": \"v.to.rast\",\n",
    "          # Se: https://grass.osgeo.org/grass84/manuals/v.to.rast.html\n",
    "          \"flags\": \"d\",\n",
    "          \"inputs\": [\n",
    "              {\n",
    "                  \"param\": \"input\",\n",
    "                  \"value\": f\"innsjoe_{vatnlnr}\"\n",
    "              },\n",
    "              {\n",
    "                  \"param\": \"layer\",\n",
    "                  \"value\": \"1\"\n",
    "              },\n",
    "              {\n",
    "                  \"param\": \"type\",\n",
    "                  \"value\": \"area\"\n",
    "              },\n",
    "              {\n",
    "                  \"param\": \"use\",\n",
    "                  \"value\": \"attr\"\n",
    "              },\n",
    "              {\n",
    "                  \"param\": \"attribute_column\",\n",
    "                  \"value\": \"VATN_LNR\"\n",
    "              },\n",
    "              {\n",
    "                  \"param\": \"label_column\",\n",
    "                  \"value\": \"NAVN\"\n",
    "              }\n",
    "          ],\n",
    "          \"outputs\": [\n",
    "              {\n",
    "                  \"param\": \"output\",\n",
    "                  \"value\": f\"innsjoe_{vatnlnr}\"\n",
    "              }\n",
    "          ]\n",
    "        },\n",
    "    ],\n",
    "    \"version\": \"1\"\n",
    "}\n",
    "\n",
    "pc_statistic = {\n",
    "    \"list\": [\n",
    "        {\n",
    "          \"id\": \"g_region_12345\",\n",
    "          \"module\": \"g.region\",\n",
    "          # Se: https://grass.osgeo.org/grass84/manuals/g.region.html\n",
    "          \"flags\": \"g\",\n",
    "          \"inputs\": [\n",
    "              {\n",
    "                  \"param\": \"vector\",\n",
    "                  \"value\": f\"innsjoe_{vatnlnr}@{mapset_name}\"\n",
    "              },\n",
    "              {\n",
    "                  \"param\": \"align\",\n",
    "                  \"value\": \"DTM_20m_Norge_Sverige@DTM\"\n",
    "              }\n",
    "          ]\n",
    "        },\n",
    "        {\n",
    "          \"id\": \"g_mapsets_12345\",\n",
    "          \"module\": \"g.mapsets\",\n",
    "          \"inputs\": [\n",
    "              {\n",
    "                  \"param\": \"operation\",\n",
    "                  \"value\": \"add\"\n",
    "              },\n",
    "              {\n",
    "                  \"param\": \"mapset\",\n",
    "                  \"value\": \"Sentinel_1_GRDH_20m_backscatter_intensity\"\n",
    "              }\n",
    "          ]\n",
    "        },\n",
    "        {\n",
    "          \"id\": \"t_rast_univar_12345\",\n",
    "          \"module\": \"t.rast.univar\",\n",
    "          # Se: https://grass.osgeo.org/grass84/manuals/t.rast.univar.html\n",
    "          \"flags\": \"e\",\n",
    "          \"inputs\": [\n",
    "              {\n",
    "                  \"param\": \"input\",\n",
    "                  \"value\": \"Sentinel_1_GRDH_20m_backscatter_intensity@Sentinel_1_GRDH_20m_backscatter_intensity\"\n",
    "              },\n",
    "              {\n",
    "                  \"param\": \"zones\",\n",
    "                  \"value\": f\"innsjoe_{vatnlnr}@{mapset_name}\"\n",
    "              },\n",
    "              {\n",
    "                  \"param\": \"where\",\n",
    "                  \"value\": \"semantic_label LIKE 'VH_dbi_%'\" # \"start_time > '2024-04-10' AND \n",
    "              },\n",
    "              {\n",
    "                  \"param\": \"percentile\",\n",
    "                  \"value\": \"10,90\"\n",
    "              },\n",
    "              {\n",
    "                  \"param\": \"region_relation\",\n",
    "                  \"value\": \"overlaps\"\n",
    "              },\n",
    "              {\n",
    "                  \"param\": \"nprocs\",\n",
    "                  \"value\": str(nprocs)\n",
    "              }\n",
    "          ],\n",
    "          # \"outputs\": [\n",
    "          #     {\n",
    "          #         \"param\": \"output\",\n",
    "          #         \"value\": f\"/hdata/fjernanalyse3/CopernicusUtviklingOgTest/bre_senterlinje_{bre_id}_stat.csv\"\n",
    "          #    }\n",
    "          # ],\n",
    "        \"stdout\": {\n",
    "            \"id\": f\"innsjoe_{vatnlnr}_backscatter\",\n",
    "            \"format\": \"table\",\n",
    "            \"delimiter\": \",\"\n",
    "            },\n",
    "      }\n",
    "    ],\n",
    "    \"version\": \"1\"\n",
    "}\n"
   ]
  },
  {
   "cell_type": "markdown",
   "id": "f5b7238a",
   "metadata": {},
   "source": [
    "## Kjør prosesskjedene"
   ]
  },
  {
   "cell_type": "code",
   "execution_count": 8,
   "id": "6d6ba574",
   "metadata": {},
   "outputs": [
    {
     "name": "stderr",
     "output_type": "stream",
     "text": [
      "Status of innsjoe_211_data_preparation job is accepted: Resource accepted\u001b[0m\n",
      "Status of innsjoe_211_data_preparation job is finished: Processing successfully finished\u001b[0m\n"
     ]
    },
    {
     "name": "stdout",
     "output_type": "stream",
     "text": [
      "finished\n",
      "Processing successfully finished in 2.95 sec\n"
     ]
    }
   ],
   "source": [
    "# Run data preparation\n",
    "job_preparation = actinia_nve.locations[\"ETRS_33N\"].mapsets[mapset_name].create_processing_job(pc_data_preparation, f\"innsjoe_{vatnlnr}_data_preparation\")\n",
    "job_preparation.poll_until_finished()\n",
    "\n",
    "print(job_preparation.status)\n",
    "print(job_preparation.message, \"in\", round(job_preparation.time_delta, 2), \"sec\")"
   ]
  },
  {
   "cell_type": "code",
   "execution_count": 9,
   "id": "bfd6bef7",
   "metadata": {},
   "outputs": [
    {
     "name": "stderr",
     "output_type": "stream",
     "text": [
      "Status of innsjoe_211_backscatter job is accepted: Resource accepted\u001b[0m\n",
      "Status of innsjoe_211_backscatter job is finished: Processing successfully finished\u001b[0m\n"
     ]
    },
    {
     "name": "stdout",
     "output_type": "stream",
     "text": [
      "finished\n",
      "Processing successfully finished in 10.45 sec\n"
     ]
    }
   ],
   "source": [
    "# Run statistics computation\n",
    "# Ephemeral job\n",
    "# job_statistic = actinia_nve.locations[\"ETRS_33N\"].create_processing_export_job(pc_statistic,\"bre_linje_backscatter\")\n",
    "# # Persistent job\n",
    "job_statistic = actinia_nve.locations[\"ETRS_33N\"].mapsets[mapset_name].create_processing_job(pc_statistic, f\"innsjoe_{vatnlnr}_backscatter\")\n",
    "job_statistic.poll_until_finished()\n",
    "print(job_statistic.status)\n",
    "print(job_statistic.message, \"in\", round(job_statistic.time_delta, 2), \"sec\")"
   ]
  },
  {
   "cell_type": "markdown",
   "id": "2326bafe",
   "metadata": {},
   "source": [
    "## Plotting\n",
    "\n",
    "Første steg er å lage en Pandas `DataFrame` av statistikk resultatene og massere data slik at de passer til ønsket plott."
   ]
  },
  {
   "cell_type": "markdown",
   "id": "0d5be458",
   "metadata": {},
   "source": [
    "Selve plottet kan videre tilpasses mtp. fargeskala eller inndeling (eller aggregering) av Y-aksen osv..\n",
    "\n",
    "Det kan også være aktuelt å endre noe på innput data, f.eks. ved å bruke flere breer (f.eks. en plott per bre), skille satellittbaner (en plott per satellitt-bane), samt selvfølgelig lengre tisdsserier, mfl. ..."
   ]
  },
  {
   "cell_type": "code",
   "execution_count": 173,
   "id": "646598ff",
   "metadata": {},
   "outputs": [
    {
     "data": {
      "text/plain": [
       "<AxesSubplot: xlabel='start'>"
      ]
     },
     "execution_count": 173,
     "metadata": {},
     "output_type": "execute_result"
    },
    {
     "data": {
      "image/png": "[encoded data removed]",
      "text/plain": [
       "<Figure size 640x480 with 1 Axes>"
      ]
     },
     "metadata": {},
     "output_type": "display_data"
    }
   ],
   "source": [
    "# Create an aggregated Pandas dataframe\n",
    "df = pd.DataFrame([l[0].split(\"|\") for l in job_statistic.process_results[f'innsjoe_{vatnlnr}_backscatter']][1:], )\n",
    "# Name columns\n",
    "df.columns = job_statistic.process_results[f'innsjoe_{vatnlnr}_backscatter'][0][0].split(\"|\")\n",
    "# Remove NaN (rwows without valid cells)\n",
    "df = df[df[\"cells\"] != \"0\"]\n",
    "# Convert start to datetime\n",
    "df[\"start\"] = pd.to_datetime(df[\"start\"], format='ISO8601').dt.date\n",
    "selected_columns = [\"first_quartile\",\"median\",\"third_quartile\"]\n",
    "\n",
    "import matplotlib as mpl\n",
    "cmap = mpl.colormaps[\"coolwarm\"].resampled(len(selected_columns))\n",
    "colors = cmap(range(len(selected_columns)))\n",
    "color_dict = {}\n",
    "for idx, selected_column in enumerate(selected_columns):\n",
    "    df[selected_column] = df[selected_column].astype(float)\n",
    "    color_dict[selected_column] = mpl.colors.to_hex(colors[idx])\n",
    "df.plot.line(x=\"start\", color=color_dict)\n"
   ]
  }
 ],
 "metadata": {
  "kernelspec": {
   "display_name": "Python 3 (ipykernel)",
   "language": "python",
   "name": "python3"
  },
  "language_info": {
   "codemirror_mode": {
    "name": "ipython",
    "version": 3
   },
   "file_extension": ".py",
   "mimetype": "text/x-python",
   "name": "python",
   "nbconvert_exporter": "python",
   "pygments_lexer": "ipython3",
   "version": "3.9.7"
  }
 },
 "nbformat": 4,
 "nbformat_minor": 5
}
